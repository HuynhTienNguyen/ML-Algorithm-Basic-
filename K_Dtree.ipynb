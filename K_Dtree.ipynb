{
 "cells": [
  {
   "cell_type": "markdown",
   "id": "87e2858c-7b58-41b3-b6c5-bda6e5f03375",
   "metadata": {},
   "source": [
    "## K-Dimensional tree"
   ]
  },
  {
   "cell_type": "markdown",
   "id": "8c596cbf-9a4f-441a-a1d7-68e8d5d50be8",
   "metadata": {},
   "source": [
    "# create class node "
   ]
  },
  {
   "cell_type": "code",
   "execution_count": 2,
   "id": "bc469a41-a8a6-4c6a-b155-efb026f3dd72",
   "metadata": {},
   "outputs": [],
   "source": [
    "class node:\n",
    "    def __init__(seft, point, left, right):\n",
    "        seft.point=point\n",
    "        seft.left=left\n",
    "        seft.right=right"
   ]
  },
  {
   "cell_type": "markdown",
   "id": "dd839879-2582-4e50-ad1a-decd9186fbb4",
   "metadata": {},
   "source": [
    "# def create tree from the list of points"
   ]
  },
  {
   "cell_type": "code",
   "execution_count": 4,
   "id": "ca41ac35-aa58-4cde-8ec8-08b8f3fa9295",
   "metadata": {},
   "outputs": [],
   "source": [
    "def build_kdtree(points, depth = 0):\n",
    "    if not points:\n",
    "        return None\n",
    "        \n",
    "    k = len(points[0])\n",
    "    axis = depth % k\n",
    "    print(\"axis: \", axis)\n",
    "\n",
    "    points.sort(key = lambda x: x[axis])\n",
    "    median = len(points) // 2\n",
    "    print(\"point: \", points[median])\n",
    "    print(\"median: \", median)\n",
    "    print(\"-----------------------\")\n",
    "\n",
    "    return node (\n",
    "        point = points[median],\n",
    "        left = build_kdtree(points[:median], depth + 1),\n",
    "        right = build_kdtree(points[median + 1:], depth + 1)\n",
    "    )"
   ]
  },
  {
   "cell_type": "markdown",
   "id": "ae84e536-3cf4-4e3a-ad09-75e6fe212299",
   "metadata": {},
   "source": [
    "# def add node into the tree"
   ]
  },
  {
   "cell_type": "code",
   "execution_count": 6,
   "id": "f3acbdde-e077-4d9d-b3eb-1dd3a22ccb6b",
   "metadata": {},
   "outputs": [],
   "source": [
    "def add_tree(root, new_point, depth = 0):\n",
    "    if root is None:\n",
    "        return node(\n",
    "            point = new_point,\n",
    "            left = None,\n",
    "            right = None\n",
    "        )\n",
    "        \n",
    "    k = len(new_point)\n",
    "    axis = depth % k\n",
    "    \n",
    "    if new_point[axis] < root.point[axis]:\n",
    "        root.left = add_kdtree(root.left, new_point, depth + 1)\n",
    "    else:\n",
    "        root.right = add_kdtree(root.right, new_point, depth + 1)\n",
    "    \n",
    "    return root"
   ]
  },
  {
   "cell_type": "markdown",
   "id": "78f970db-652f-44cf-8546-49f7b06659dc",
   "metadata": {},
   "source": [
    "# create KD tree"
   ]
  },
  {
   "cell_type": "code",
   "execution_count": 52,
   "id": "2e1cb97b-03ed-42da-8321-a1cb44919dda",
   "metadata": {},
   "outputs": [
    {
     "name": "stdout",
     "output_type": "stream",
     "text": [
      "axis:  0\n",
      "point:  (5, 2)\n",
      "median:  4\n",
      "-----------------------\n",
      "axis:  1\n",
      "point:  (0, 6)\n",
      "median:  2\n",
      "-----------------------\n",
      "axis:  0\n",
      "point:  (2, 4)\n",
      "median:  1\n",
      "-----------------------\n",
      "axis:  1\n",
      "point:  (1, 1)\n",
      "median:  0\n",
      "-----------------------\n",
      "axis:  0\n",
      "point:  (3, 7)\n",
      "median:  0\n",
      "-----------------------\n",
      "axis:  1\n",
      "point:  (6, 3)\n",
      "median:  1\n",
      "-----------------------\n",
      "axis:  0\n",
      "point:  (7, 1)\n",
      "median:  0\n",
      "-----------------------\n",
      "axis:  0\n",
      "point:  (8, 6)\n",
      "median:  0\n",
      "-----------------------\n"
     ]
    }
   ],
   "source": [
    "points1 = [(0, 6), (1, 1), (2, 4), (3, 7), (5, 2), (6, 3), (7, 1), (8, 6)]\n",
    "points2 = [(1, 2), (2, 6), (3, 4), (5, 6), (7, 8), (8, 3)]\n",
    "kd_tree1 = build_kdtree(points1)"
   ]
  },
  {
   "cell_type": "code",
   "execution_count": 44,
   "id": "99e86442-af0c-423c-80ea-cd9e48aff113",
   "metadata": {},
   "outputs": [],
   "source": [
    "def distance_squared(point1, point2):\n",
    "    return (point1[0]-point2[0])**2 + (point1[1]-point2[1])**2"
   ]
  },
  {
   "cell_type": "code",
   "execution_count": 46,
   "id": "1d68b8ff-5662-416f-b3b4-100cee58f0c8",
   "metadata": {},
   "outputs": [],
   "source": [
    "def find_closer_point(target, root, nearest):\n",
    "    if root is None:\n",
    "        return nearest\n",
    "    if nearest is None:\n",
    "        return root\n",
    "    if  distance_squared(target, root) > distance_squared(target, nearest):\n",
    "        return nearest\n",
    "    return root"
   ]
  },
  {
   "cell_type": "code",
   "execution_count": 38,
   "id": "9c07f098-62ef-48fd-b6f5-f6906ac77108",
   "metadata": {},
   "outputs": [],
   "source": [
    "def find_nearest(neighbor, target, depth = 0, best = None):\n",
    "    if neighbor is None:\n",
    "        return best\n",
    "        \n",
    "    k = len(target)\n",
    "    axis = depth % k\n",
    "    \n",
    "    next_branch = None\n",
    "    opposite_branch = None\n",
    "    \n",
    "    if neighbor.point[axis] < target[axis]:\n",
    "        next_branch = neighbor.right\n",
    "        opposite_branch = neighbor.left\n",
    "    else:\n",
    "        next_branch = neighbor.left\n",
    "        opposite_branch = neighbor.right\n",
    "        \n",
    "    best = find_closer_point(target, neighbor.point, find_nearest(next_branch, target, depth + 1, best))\n",
    "    \n",
    "    if (target[0] - neighbor.point[0])**2 < distance_squared(target, best):\n",
    "        best = find_closer_point(target, best, find_nearest(opposite_branch, target, depth + 1, best))\n",
    "        \n",
    "    return best\n",
    "    "
   ]
  },
  {
   "cell_type": "code",
   "execution_count": 54,
   "id": "72aab7e5-1343-45d8-a3ff-c4a099152488",
   "metadata": {},
   "outputs": [
    {
     "name": "stdout",
     "output_type": "stream",
     "text": [
      "(2, 4)\n"
     ]
    }
   ],
   "source": [
    "query_point=(4,4)\n",
    "nearest_point=find_nearest(kd_tree1, query_point)\n",
    "print(nearest_point)"
   ]
  },
  {
   "cell_type": "markdown",
   "id": "8e150968-26b7-4d5e-b655-1419f7ddf62e",
   "metadata": {},
   "source": [
    "# Using sklearn"
   ]
  },
  {
   "cell_type": "code",
   "execution_count": 7,
   "id": "d7628e12-9096-4e30-929f-5628bc9471af",
   "metadata": {},
   "outputs": [
    {
     "name": "stdout",
     "output_type": "stream",
     "text": [
      "Query Point: [[4 4]]\n",
      "Nearest Neighbors:\n",
      "Neighbor 1: [2 4], Distance: 2.0\n"
     ]
    }
   ],
   "source": [
    "from sklearn.neighbors import KDTree\n",
    "import numpy as np\n",
    "\n",
    "# Sample data\n",
    "data = np.array([[0, 6], [1, 1], [2, 4], [3, 7], [5, 2], [6, 3], [7, 1], [8, 6]])\n",
    "\n",
    "# Build KD tree\n",
    "kdtree = KDTree(data, leaf_size=30)\n",
    "\n",
    "# Query the KD tree for nearest neighbors\n",
    "query_point = np.array([[4, 4]])\n",
    "distances, indices = kdtree.query(query_point, k=1)\n",
    "\n",
    "# Print results\n",
    "print(\"Query Point:\", query_point)\n",
    "print(\"Nearest Neighbors:\")\n",
    "for i, idx in enumerate(indices[0]):\n",
    "\tprint(f\"Neighbor {i + 1}: {data[idx]}, Distance: {distances[0][i]}\")\n"
   ]
  },
  {
   "cell_type": "code",
   "execution_count": null,
   "id": "41507ac6-773b-4658-82bb-2cd77af476a8",
   "metadata": {},
   "outputs": [],
   "source": []
  }
 ],
 "metadata": {
  "kernelspec": {
   "display_name": "Python 3 (ipykernel)",
   "language": "python",
   "name": "python3"
  },
  "language_info": {
   "codemirror_mode": {
    "name": "ipython",
    "version": 3
   },
   "file_extension": ".py",
   "mimetype": "text/x-python",
   "name": "python",
   "nbconvert_exporter": "python",
   "pygments_lexer": "ipython3",
   "version": "3.11.7"
  }
 },
 "nbformat": 4,
 "nbformat_minor": 5
}
