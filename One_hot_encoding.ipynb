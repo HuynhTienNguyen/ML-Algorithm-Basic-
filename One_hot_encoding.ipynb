{
 "cells": [
  {
   "cell_type": "code",
   "execution_count": 34,
   "id": "0400f6c4-f33c-44db-a724-c746fe12f721",
   "metadata": {},
   "outputs": [
    {
     "name": "stdout",
     "output_type": "stream",
     "text": [
      "[0, 0, 1]\n",
      "[0, 1, 0]\n",
      "[0, 0, 1]\n",
      "[0, 1, 0]\n",
      "[1, 0, 0]\n"
     ]
    }
   ],
   "source": [
    "import numpy as np\n",
    "\n",
    "dataset=np.array([\"Ho Chi Minh\",\"Da Nang\", \"Ho Chi Minh\", \"Da Nang\", \"Can Tho\"])\n",
    "\n",
    "#initialize an empty set to store unique categories\n",
    "unique_categories = set()\n",
    "\n",
    "#iterate through the dataset and add the categories to the set\n",
    "for data in dataset:\n",
    "    unique_categories.add(data)\n",
    "\n",
    "#convert the set to a sorted list to maintain order\n",
    "unique_categories=sorted(list(unique_categories))\n",
    "\n",
    "#create a mapping from categorie to index\n",
    "categories_to_index={categories : index for index, categories in enumerate(unique_categories)}\n",
    "\n",
    "#initialize a empty list to store the one_hot encoded features\n",
    "one_hot_encoded_features = list()\n",
    "\n",
    "#perform one hot encoding\n",
    "for data in dataset:\n",
    "    one_hot_vector = [ 0 for x in range( len(unique_categories ))] \n",
    "    #another way to create list one_hot_vector = [0]*len(unique_categories)\n",
    "    one_hot_vector [ categories_to_index [ data ] ] = 1\n",
    "    one_hot_encoded_features.append( one_hot_vector )\n",
    "\n",
    "#print OHE\n",
    "for vector in one_hot_encoded_features:\n",
    "    print( vector )"
   ]
  },
  {
   "cell_type": "code",
   "execution_count": null,
   "id": "94d98e45-6d3c-4377-b267-fdda80cb3c31",
   "metadata": {},
   "outputs": [],
   "source": []
  }
 ],
 "metadata": {
  "kernelspec": {
   "display_name": "Python 3 (ipykernel)",
   "language": "python",
   "name": "python3"
  },
  "language_info": {
   "codemirror_mode": {
    "name": "ipython",
    "version": 3
   },
   "file_extension": ".py",
   "mimetype": "text/x-python",
   "name": "python",
   "nbconvert_exporter": "python",
   "pygments_lexer": "ipython3",
   "version": "3.11.7"
  }
 },
 "nbformat": 4,
 "nbformat_minor": 5
}
