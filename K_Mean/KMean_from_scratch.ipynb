{
 "cells": [
  {
   "cell_type": "markdown",
   "id": "0ed5e954-223c-4319-86bc-e1235f983213",
   "metadata": {},
   "source": [
    "# Import necessary lib"
   ]
  },
  {
   "cell_type": "code",
   "execution_count": 1,
   "id": "e68bdbb8-b403-4a8d-9913-962361ac4cc1",
   "metadata": {},
   "outputs": [],
   "source": [
    "#from sklearn.cluster import KMeans\n",
    "import pandas as pd\n",
    "from sklearn.preprocessing import MinMaxScaler\n",
    "import matplotlib.pyplot as plt\n",
    "from sklearn.model_selection import train_test_split\n",
    "import numpy as np\n",
    "import math"
   ]
  },
  {
   "cell_type": "markdown",
   "id": "890bb488-bfc4-42ac-b003-4f621ca5e2c1",
   "metadata": {},
   "source": [
    "# build Kmean class"
   ]
  },
  {
   "cell_type": "code",
   "execution_count": 2,
   "id": "c89e8156-5225-4f8f-9399-c5d9f633c1c5",
   "metadata": {},
   "outputs": [],
   "source": [
    "class KMean:\n",
    "    def __init__(self, centroids = None, clusters = None, threshold = 3):\n",
    "        self.centroids = centroids\n",
    "        self.clusters = clusters\n",
    "        self.threshold = threshold\n",
    "\n",
    "    def fit(self, k = 2, data = None, thre = 0):\n",
    "        if data is None:\n",
    "            print('error: data empty!!!')\n",
    "            return 0\n",
    "       \n",
    "        if self.centroids is None:\n",
    "            self.centroids = self.get_centroids(k, data)\n",
    "            \n",
    "        clusters = self.clustering(k, data)\n",
    "\n",
    "        if self.clusters is None:\n",
    "            self.update_centroids_1st(k, data, clusters)\n",
    "        else:\n",
    "            self.update_centroids(k, data)\n",
    "            \n",
    "        \n",
    "        if self.clusters != clusters or thre < self.threshold:\n",
    "            self.clusters = clusters\n",
    "            self.fit(k, data, thre + 1)\n",
    "\n",
    "        return 1\n",
    "\n",
    "         \n",
    "    # choose first centroids list\n",
    "    def get_centroids(self, k, data):\n",
    "        centroids = []\n",
    "        for i in range(k):\n",
    "            c = []\n",
    "            for j in range(len(data[0])):\n",
    "                c.append(data[i][j])\n",
    "            centroids.append(c)\n",
    "        return centroids\n",
    "        \n",
    "    def get_label(self, k, object):\n",
    "        min_d = float('inf')\n",
    "        label = 0\n",
    "        for i in range(k):\n",
    "            sum = 0\n",
    "            for j in range(len(object)):\n",
    "                sum = sum + (object[j] - self.centroids[i][j])**2\n",
    "            d = np.sqrt(sum)\n",
    "            if min_d > d:\n",
    "                min_d = d\n",
    "                label = i\n",
    "                \n",
    "        return label\n",
    "    \n",
    "    # get label for all of objects\n",
    "    def clustering(self, k, data):\n",
    "        clusters = []\n",
    "        label = None\n",
    "        for i in range(len(data)):\n",
    "            label = self.get_label(k, data[i])\n",
    "            clustering_i = []\n",
    "            for j in range(k):\n",
    "                if j == label:\n",
    "                    clustering_i.append(1)\n",
    "                else:\n",
    "                    clustering_i.append(0)\n",
    "            clusters.append(clustering_i)\n",
    "\n",
    "        return clusters\n",
    "\n",
    "    def update_centroids_1st(self, k, data, clusters):\n",
    "        self.centroids = []\n",
    "        for i in range(k):\n",
    "            centroid = []\n",
    "            num_feat = len(data[0])\n",
    "            value = None\n",
    "            for j in range(num_feat):\n",
    "                de = self.get_de(clusters, i)\n",
    "                nu = self.get_nu(data, clusters, j, i)\n",
    "                value = nu/de\n",
    "                centroid.append(value)\n",
    "            self.centroids.append(centroid)\n",
    "        return 1\n",
    "\n",
    "    def update_centroids(self, k, data):\n",
    "        self.centroids = []\n",
    "        for i in range(k):\n",
    "            centroid = []\n",
    "            num_feat = len(data[0])\n",
    "            value = None\n",
    "            for j in range(num_feat):\n",
    "                de = self.get_de(self.clusters, i)\n",
    "                nu = self.get_nu(data, self.clusters, j, i)\n",
    "                value = nu/de\n",
    "                centroid.append(value)\n",
    "            self.centroids.append(centroid)\n",
    "        return 1\n",
    "    \n",
    "    def get_nu(self, data, clusters, data_i, cluster_i):\n",
    "        sum = 0\n",
    "        num_obj = len(data)\n",
    "        for i in range(num_obj):\n",
    "            sum = sum + clusters[i][cluster_i] * data[i][data_i]\n",
    "            \n",
    "        return sum\n",
    "\n",
    "    def get_de(self, clusters, index):\n",
    "        sum = 0\n",
    "        for i in range(len(clusters)):\n",
    "            sum = sum + clusters[i][index]\n",
    "            \n",
    "        return sum\n",
    "\n",
    "    def get_clus(self):\n",
    "        clus = self.clusters\n",
    "        return clus\n",
    "\n",
    "    def get_cen(self):\n",
    "        cen = self.centroids\n",
    "        return cen"
   ]
  },
  {
   "cell_type": "markdown",
   "id": "e82208ec-e7f7-4125-a787-36d8455cbb47",
   "metadata": {},
   "source": [
    "# clustering simple data(2d) into 2 cluster"
   ]
  },
  {
   "cell_type": "code",
   "execution_count": 3,
   "id": "b4ecad32-424e-487c-966d-caf560966402",
   "metadata": {},
   "outputs": [
    {
     "data": {
      "text/plain": [
       "1"
      ]
     },
     "execution_count": 3,
     "metadata": {},
     "output_type": "execute_result"
    },
    {
     "data": {
      "image/png": "[encoded data removed]",
      "text/plain": [
       "<Figure size 640x480 with 1 Axes>"
      ]
     },
     "metadata": {},
     "output_type": "display_data"
    }
   ],
   "source": [
    "test = [[3, 1], [1, 3], [1.5, 3.2], [1.3, 2.8], [2.5, 1.5]]\n",
    "df_test = pd.DataFrame(test)\n",
    "plt.scatter(df_test[0], df_test[1])\n",
    "clf = KMean()\n",
    "clf.fit(2, test)"
   ]
  },
  {
   "cell_type": "markdown",
   "id": "4955f934-7663-4432-8790-0b995ffc5275",
   "metadata": {},
   "source": [
    "# check result"
   ]
  },
  {
   "cell_type": "code",
   "execution_count": 4,
   "id": "72488790-2831-4b51-bc7d-6d1f607485ff",
   "metadata": {},
   "outputs": [
    {
     "name": "stderr",
     "output_type": "stream",
     "text": [
      "No artists with labels found to put in legend.  Note that artists whose label start with an underscore are ignored when legend() is called with no argument.\n"
     ]
    },
    {
     "name": "stdout",
     "output_type": "stream",
     "text": [
      "          0     1\n",
      "0  2.750000  1.25\n",
      "1  1.266667  3.00\n"
     ]
    },
    {
     "data": {
      "text/plain": [
       "<matplotlib.legend.Legend at 0x21d8e98b0e0>"
      ]
     },
     "execution_count": 4,
     "metadata": {},
     "output_type": "execute_result"
    },
    {
     "data": {
      "image/png": "[encoded data removed]",
      "text/plain": [
       "<Figure size 640x480 with 1 Axes>"
      ]
     },
     "metadata": {},
     "output_type": "display_data"
    }
   ],
   "source": [
    "def get_simple_clusters(data, model):\n",
    "    clusters = model.get_clus()\n",
    "    simple_clusters = []\n",
    "    for i in range(len(data)):\n",
    "        simple_clusters.append(-1)\n",
    "\n",
    "    for i in range(len(clusters)):\n",
    "        for j in range(len(clusters[0])):\n",
    "            if clusters[i][j] == 1:\n",
    "                data[i].append(j)\n",
    "            \n",
    "    return data\n",
    "    \n",
    "result = get_simple_clusters(test, clf)\n",
    "\n",
    "cen = pd.DataFrame(clf.get_cen())\n",
    "print(cen)\n",
    "\n",
    "c0 = [x for x in result if x[2] == 0]\n",
    "c1 = [x for x in result if x[2] == 1]\n",
    "\n",
    "df0 = pd.DataFrame(c0)\n",
    "df1 = pd.DataFrame(c1)\n",
    "\n",
    "plt.scatter(df0[0], df0[1], color = 'green')\n",
    "plt.scatter(df1[0], df1[1], color = 'red')\n",
    "plt.scatter(cen[0], cen[1], color = 'purple', marker = '.')\n",
    "\n",
    "plt.xlabel('X')\n",
    "plt.ylabel('Y')\n",
    "plt.legend()"
   ]
  },
  {
   "cell_type": "markdown",
   "id": "fd3f3b48-f6f8-4b60-854f-00e204df17a5",
   "metadata": {},
   "source": [
    "# try clustering data(2d) into 3 cluster"
   ]
  },
  {
   "cell_type": "code",
   "execution_count": 5,
   "id": "b48d1982-86be-4d3f-8463-4af50fc6368f",
   "metadata": {},
   "outputs": [
    {
     "data": {
      "text/html": [
       "<div>\n",
       "<style scoped>\n",
       "    .dataframe tbody tr th:only-of-type {\n",
       "        vertical-align: middle;\n",
       "    }\n",
       "\n",
       "    .dataframe tbody tr th {\n",
       "        vertical-align: top;\n",
       "    }\n",
       "\n",
       "    .dataframe thead th {\n",
       "        text-align: right;\n",
       "    }\n",
       "</style>\n",
       "<table border=\"1\" class=\"dataframe\">\n",
       "  <thead>\n",
       "    <tr style=\"text-align: right;\">\n",
       "      <th></th>\n",
       "      <th>Name</th>\n",
       "      <th>Age</th>\n",
       "      <th>Income($)</th>\n",
       "    </tr>\n",
       "  </thead>\n",
       "  <tbody>\n",
       "    <tr>\n",
       "      <th>0</th>\n",
       "      <td>Rob</td>\n",
       "      <td>27</td>\n",
       "      <td>70000</td>\n",
       "    </tr>\n",
       "    <tr>\n",
       "      <th>1</th>\n",
       "      <td>Michael</td>\n",
       "      <td>29</td>\n",
       "      <td>90000</td>\n",
       "    </tr>\n",
       "    <tr>\n",
       "      <th>2</th>\n",
       "      <td>Mohan</td>\n",
       "      <td>29</td>\n",
       "      <td>61000</td>\n",
       "    </tr>\n",
       "    <tr>\n",
       "      <th>3</th>\n",
       "      <td>Ismail</td>\n",
       "      <td>28</td>\n",
       "      <td>60000</td>\n",
       "    </tr>\n",
       "    <tr>\n",
       "      <th>4</th>\n",
       "      <td>Kory</td>\n",
       "      <td>42</td>\n",
       "      <td>150000</td>\n",
       "    </tr>\n",
       "  </tbody>\n",
       "</table>\n",
       "</div>"
      ],
      "text/plain": [
       "      Name  Age  Income($)\n",
       "0      Rob   27      70000\n",
       "1  Michael   29      90000\n",
       "2    Mohan   29      61000\n",
       "3   Ismail   28      60000\n",
       "4     Kory   42     150000"
      ]
     },
     "execution_count": 5,
     "metadata": {},
     "output_type": "execute_result"
    }
   ],
   "source": [
    "df = pd.read_csv(\"income.csv\")\n",
    "df.head()\n"
   ]
  },
  {
   "cell_type": "markdown",
   "id": "b99e75aa-1053-4e75-949a-97c9fd95b1c4",
   "metadata": {},
   "source": [
    "# tranfer and filter dataset"
   ]
  },
  {
   "cell_type": "code",
   "execution_count": 6,
   "id": "b91abb3e-b86e-4cbe-b68a-27f9aabf5d40",
   "metadata": {},
   "outputs": [
    {
     "name": "stdout",
     "output_type": "stream",
     "text": [
      "[[27, 70000], [29, 90000], [29, 61000], [28, 60000], [42, 150000], [39, 155000], [41, 160000], [38, 162000], [36, 156000], [35, 130000], [37, 137000], [26, 45000], [27, 48000], [28, 51000], [29, 49500], [32, 53000], [40, 65000], [41, 63000], [43, 64000], [39, 80000], [41, 82000], [39, 58000]]\n"
     ]
    }
   ],
   "source": [
    "list = df.values.tolist()\n",
    "\n",
    "dataset = []\n",
    "for i in range(len(list)):\n",
    "    x = []\n",
    "    for j in range(len(list[0])):\n",
    "        if isinstance(list[i][j], int):\n",
    "            x.append(list[i][j])\n",
    "    dataset.append(x)\n",
    "    \n",
    "print(dataset)"
   ]
  },
  {
   "cell_type": "markdown",
   "id": "a5a8e1db-9c86-435c-b119-161e62299e44",
   "metadata": {},
   "source": [
    "# draw "
   ]
  },
  {
   "cell_type": "code",
   "execution_count": 7,
   "id": "488768c8-772c-4b1b-91ba-d9c9eab849b9",
   "metadata": {},
   "outputs": [
    {
     "data": {
      "text/plain": [
       "<matplotlib.collections.PathCollection at 0x21d8eb81040>"
      ]
     },
     "execution_count": 7,
     "metadata": {},
     "output_type": "execute_result"
    },
    {
     "data": {
      "image/png": "[encoded data removed]",
      "text/plain": [
       "<Figure size 640x480 with 1 Axes>"
      ]
     },
     "metadata": {},
     "output_type": "display_data"
    }
   ],
   "source": [
    "x = [i[0] for i in dataset]\n",
    "y = [i[1] for i in dataset]\n",
    "plt.scatter(x, y)"
   ]
  },
  {
   "cell_type": "markdown",
   "id": "28f9a318-18a7-42da-ad4c-99687b35ce55",
   "metadata": {},
   "source": [
    "# clustering"
   ]
  },
  {
   "cell_type": "code",
   "execution_count": 8,
   "id": "99173c1f-3560-4087-a0af-98dc6542de25",
   "metadata": {},
   "outputs": [
    {
     "data": {
      "text/plain": [
       "1"
      ]
     },
     "execution_count": 8,
     "metadata": {},
     "output_type": "execute_result"
    }
   ],
   "source": [
    "clf_k3 = KMean()\n",
    "clf_k3.fit(3, dataset)"
   ]
  },
  {
   "cell_type": "markdown",
   "id": "b2b2e97e-9a22-4adb-8b83-3fa994ec8436",
   "metadata": {},
   "source": [
    "# check result"
   ]
  },
  {
   "cell_type": "code",
   "execution_count": 9,
   "id": "df60a21c-509d-471d-a7fd-e42a7a46174e",
   "metadata": {},
   "outputs": [
    {
     "name": "stderr",
     "output_type": "stream",
     "text": [
      "No artists with labels found to put in legend.  Note that artists whose label start with an underscore are ignored when legend() is called with no argument.\n"
     ]
    },
    {
     "data": {
      "text/plain": [
       "<matplotlib.legend.Legend at 0x21d8f448230>"
      ]
     },
     "execution_count": 9,
     "metadata": {},
     "output_type": "execute_result"
    },
    {
     "data": {
      "image/png": "[encoded data removed]",
      "text/plain": [
       "<Figure size 640x480 with 1 Axes>"
      ]
     },
     "metadata": {},
     "output_type": "display_data"
    }
   ],
   "source": [
    "def get_simple_clusters(data, model):\n",
    "    clusters = model.get_clus()\n",
    "    simple_clusters = []\n",
    "    for i in range(len(data)):\n",
    "        simple_clusters.append(-1)\n",
    "\n",
    "    for i in range(len(clusters)):\n",
    "        for j in range(len(clusters[0])):\n",
    "            if clusters[i][j] == 1:\n",
    "                data[i].append(j)\n",
    "\n",
    "    a = pd.DataFrame(data)\n",
    "    return data\n",
    "    \n",
    "result_k3 = get_simple_clusters(dataset, clf_k3)\n",
    "\n",
    "cen_k3 = pd.DataFrame(clf_k3.get_cen())\n",
    "\n",
    "c0 = [_ for _ in result_k3 if _[2] == 0]\n",
    "c1 = [_ for _ in result_k3 if _[2] == 1]\n",
    "c2 = [_ for _ in result_k3 if _[2] == 2]\n",
    "\n",
    "df0 = pd.DataFrame(c0)\n",
    "df1 = pd.DataFrame(c1)\n",
    "df2 = pd.DataFrame(c2)\n",
    "\n",
    "plt.scatter(df0[0], df0[1], color = 'green')\n",
    "plt.scatter(df1[0], df1[1], color = 'red')\n",
    "plt.scatter(df2[0], df2[1], color = 'blue')\n",
    "plt.scatter(cen_k3[0], cen_k3[1], color = 'purple', marker = '.')\n",
    "\n",
    "plt.xlabel('X')\n",
    "plt.ylabel('Y')\n",
    "plt.legend()"
   ]
  },
  {
   "cell_type": "markdown",
   "id": "045beb7c-ed13-4709-8ad1-90ba4267600a",
   "metadata": {},
   "source": [
    "# PROBLEM: X_AXIS IS NARROW"
   ]
  },
  {
   "cell_type": "markdown",
   "id": "5e68a49f-f69b-47b0-9821-cb7aca567aac",
   "metadata": {},
   "source": [
    "# SOLVE PROBLEM"
   ]
  },
  {
   "cell_type": "code",
   "execution_count": 10,
   "id": "8a3806a3-fcb9-4fb0-9c43-00e1c292c979",
   "metadata": {},
   "outputs": [],
   "source": [
    "list = df.values.tolist()\n",
    "\n",
    "dataset = []\n",
    "for i in range(len(list)):\n",
    "    x = []\n",
    "    for j in range(len(list[0])):\n",
    "        if isinstance(list[i][j], int):\n",
    "            x.append(list[i][j])\n",
    "    dataset.append(x)\n"
   ]
  },
  {
   "cell_type": "markdown",
   "id": "9361c406-9ecf-4e1c-8f1f-7b7657739a41",
   "metadata": {},
   "source": [
    "# Scaler"
   ]
  },
  {
   "cell_type": "code",
   "execution_count": 11,
   "id": "f8101efa-a22f-4406-b757-7d8b68b96300",
   "metadata": {},
   "outputs": [
    {
     "name": "stdout",
     "output_type": "stream",
     "text": [
      "[[0.05882352941176472, 0.21367521367521375], [0.17647058823529416, 0.38461538461538464], [0.17647058823529416, 0.13675213675213677], [0.11764705882352944, 0.12820512820512825], [0.9411764705882355, 0.8974358974358976], [0.7647058823529411, 0.9401709401709404], [0.8823529411764706, 0.982905982905983], [0.7058823529411766, 1.0000000000000002], [0.5882352941176472, 0.9487179487179489], [0.5294117647058822, 0.7264957264957266], [0.6470588235294117, 0.7863247863247864], [0.0, 0.0], [0.05882352941176472, 0.02564102564102566], [0.11764705882352944, 0.05128205128205132], [0.17647058823529416, 0.03846153846153849], [0.3529411764705883, 0.06837606837606841], [0.8235294117647061, 0.17094017094017094], [0.8823529411764706, 0.1538461538461539], [1.0, 0.16239316239316243], [0.7647058823529411, 0.29914529914529914], [0.8823529411764706, 0.3162393162393163], [0.7647058823529411, 0.1111111111111111]]\n"
     ]
    }
   ],
   "source": [
    "scaler = MinMaxScaler()\n",
    "scaler.fit(dataset)\n",
    "dataset = scaler.transform(dataset)\n",
    "dataset = dataset.tolist()\n",
    "print(dataset)"
   ]
  },
  {
   "cell_type": "code",
   "execution_count": 12,
   "id": "17088778-33c9-4ebb-82ce-b8dc942d502b",
   "metadata": {},
   "outputs": [
    {
     "data": {
      "text/plain": [
       "1"
      ]
     },
     "execution_count": 12,
     "metadata": {},
     "output_type": "execute_result"
    }
   ],
   "source": [
    "clf_k3 = KMean()\n",
    "clf_k3.fit(3, dataset)"
   ]
  },
  {
   "cell_type": "code",
   "execution_count": 13,
   "id": "ea887df0-09a3-4fab-81d4-c0b648431c22",
   "metadata": {},
   "outputs": [
    {
     "name": "stderr",
     "output_type": "stream",
     "text": [
      "No artists with labels found to put in legend.  Note that artists whose label start with an underscore are ignored when legend() is called with no argument.\n"
     ]
    },
    {
     "data": {
      "text/plain": [
       "<matplotlib.legend.Legend at 0x21d8f45dd90>"
      ]
     },
     "execution_count": 13,
     "metadata": {},
     "output_type": "execute_result"
    },
    {
     "data": {
      "image/png": "[encoded data removed]",
      "text/plain": [
       "<Figure size 640x480 with 1 Axes>"
      ]
     },
     "metadata": {},
     "output_type": "display_data"
    }
   ],
   "source": [
    "def get_simple_clusters(data, model):\n",
    "    clusters = model.get_clus()\n",
    "    simple_clusters = []\n",
    "    for i in range(len(data)):\n",
    "        simple_clusters.append(-1)\n",
    "\n",
    "    for i in range(len(clusters)):\n",
    "        for j in range(len(clusters[0])):\n",
    "            if clusters[i][j] == 1:\n",
    "                data[i].append(j)\n",
    "\n",
    "    a = pd.DataFrame(data)\n",
    "    return data\n",
    "    \n",
    "result_k3 = get_simple_clusters(dataset, clf_k3)\n",
    "\n",
    "cen_k3 = pd.DataFrame(clf_k3.get_cen())\n",
    "\n",
    "c0 = [_ for _ in result_k3 if _[2] == 0]\n",
    "c1 = [_ for _ in result_k3 if _[2] == 1]\n",
    "c2 = [_ for _ in result_k3 if _[2] == 2]\n",
    "\n",
    "df0 = pd.DataFrame(c0)\n",
    "df1 = pd.DataFrame(c1)\n",
    "df2 = pd.DataFrame(c2)\n",
    "\n",
    "plt.scatter(df0[0], df0[1], color = 'green')\n",
    "plt.scatter(df1[0], df1[1], color = 'red')\n",
    "plt.scatter(df2[0], df2[1], color = 'blue')\n",
    "plt.scatter(cen_k3[0], cen_k3[1], color = 'purple', marker = '.')\n",
    "\n",
    "plt.xlabel('X')\n",
    "plt.ylabel('Y')\n",
    "plt.legend()\n"
   ]
  },
  {
   "cell_type": "code",
   "execution_count": null,
   "id": "1ac42f25-9b10-418f-b5f6-0ec2fe51e33e",
   "metadata": {},
   "outputs": [],
   "source": []
  }
 ],
 "metadata": {
  "kernelspec": {
   "display_name": "Python 3 (ipykernel)",
   "language": "python",
   "name": "python3"
  },
  "language_info": {
   "codemirror_mode": {
    "name": "ipython",
    "version": 3
   },
   "file_extension": ".py",
   "mimetype": "text/x-python",
   "name": "python",
   "nbconvert_exporter": "python",
   "pygments_lexer": "ipython3",
   "version": "3.12.3"
  }
 },
 "nbformat": 4,
 "nbformat_minor": 5
}
