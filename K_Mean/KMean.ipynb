{
 "cells": [
  {
   "cell_type": "markdown",
   "id": "0ca7c2a6-032b-44e3-bb56-311db22b8f06",
   "metadata": {},
   "source": [
    "# import necessary lib"
   ]
  },
  {
   "cell_type": "code",
   "execution_count": 1,
   "id": "736fefeb-354a-462b-9aae-44d7ca268010",
   "metadata": {},
   "outputs": [],
   "source": [
    "from sklearn.cluster import KMeans\n",
    "import pandas as pd\n",
    "from sklearn.preprocessing import MinMaxScaler\n",
    "from matplotlib import pyplot as plt"
   ]
  },
  {
   "cell_type": "markdown",
   "id": "555d8e43-bbe3-493c-99cf-f2e6b5db9bfe",
   "metadata": {},
   "source": [
    "# before KM clustering"
   ]
  },
  {
   "cell_type": "code",
   "execution_count": 2,
   "id": "ef6c32fb-1cb3-40d0-8e1e-0d8f9cc32638",
   "metadata": {},
   "outputs": [
    {
     "data": {
      "text/html": [
       "<div>\n",
       "<style scoped>\n",
       "    .dataframe tbody tr th:only-of-type {\n",
       "        vertical-align: middle;\n",
       "    }\n",
       "\n",
       "    .dataframe tbody tr th {\n",
       "        vertical-align: top;\n",
       "    }\n",
       "\n",
       "    .dataframe thead th {\n",
       "        text-align: right;\n",
       "    }\n",
       "</style>\n",
       "<table border=\"1\" class=\"dataframe\">\n",
       "  <thead>\n",
       "    <tr style=\"text-align: right;\">\n",
       "      <th></th>\n",
       "      <th>Name</th>\n",
       "      <th>Age</th>\n",
       "      <th>Income($)</th>\n",
       "    </tr>\n",
       "  </thead>\n",
       "  <tbody>\n",
       "    <tr>\n",
       "      <th>0</th>\n",
       "      <td>Rob</td>\n",
       "      <td>27</td>\n",
       "      <td>70000</td>\n",
       "    </tr>\n",
       "    <tr>\n",
       "      <th>1</th>\n",
       "      <td>Michael</td>\n",
       "      <td>29</td>\n",
       "      <td>90000</td>\n",
       "    </tr>\n",
       "    <tr>\n",
       "      <th>2</th>\n",
       "      <td>Mohan</td>\n",
       "      <td>29</td>\n",
       "      <td>61000</td>\n",
       "    </tr>\n",
       "    <tr>\n",
       "      <th>3</th>\n",
       "      <td>Ismail</td>\n",
       "      <td>28</td>\n",
       "      <td>60000</td>\n",
       "    </tr>\n",
       "    <tr>\n",
       "      <th>4</th>\n",
       "      <td>Kory</td>\n",
       "      <td>42</td>\n",
       "      <td>150000</td>\n",
       "    </tr>\n",
       "  </tbody>\n",
       "</table>\n",
       "</div>"
      ],
      "text/plain": [
       "      Name  Age  Income($)\n",
       "0      Rob   27      70000\n",
       "1  Michael   29      90000\n",
       "2    Mohan   29      61000\n",
       "3   Ismail   28      60000\n",
       "4     Kory   42     150000"
      ]
     },
     "execution_count": 2,
     "metadata": {},
     "output_type": "execute_result"
    }
   ],
   "source": [
    "original_df = pd.read_csv(\"income.csv\")\n",
    "df = original_df\n",
    "df.head()"
   ]
  },
  {
   "cell_type": "code",
   "execution_count": 3,
   "id": "7b130118-1803-4594-8411-0248dc888c09",
   "metadata": {},
   "outputs": [
    {
     "data": {
      "text/plain": [
       "<matplotlib.collections.PathCollection at 0x17e451eede0>"
      ]
     },
     "execution_count": 3,
     "metadata": {},
     "output_type": "execute_result"
    },
    {
     "data": {
      "image/png": "[encoded data removed]",
      "text/plain": [
       "<Figure size 640x480 with 1 Axes>"
      ]
     },
     "metadata": {},
     "output_type": "display_data"
    }
   ],
   "source": [
    "plt.scatter(df.Age,df['Income($)'])"
   ]
  },
  {
   "cell_type": "markdown",
   "id": "e0e924af-6741-44da-9d94-1051ada7dc4f",
   "metadata": {},
   "source": [
    "# KM clustering"
   ]
  },
  {
   "cell_type": "code",
   "execution_count": 4,
   "id": "9ae4274d-eef9-4431-bd28-8074f3ac8051",
   "metadata": {},
   "outputs": [
    {
     "name": "stdout",
     "output_type": "stream",
     "text": [
      "KMeans(n_clusters=3)\n"
     ]
    }
   ],
   "source": [
    "km =  KMeans(n_clusters = 3)\n",
    "print(km)"
   ]
  },
  {
   "cell_type": "code",
   "execution_count": 5,
   "id": "9fb11bad-5ef2-4a00-9d68-b28bd16fa85e",
   "metadata": {},
   "outputs": [
    {
     "name": "stdout",
     "output_type": "stream",
     "text": [
      "[0 0 2 2 1 1 1 1 1 1 1 2 2 2 2 2 2 2 2 0 0 2]\n"
     ]
    },
    {
     "name": "stderr",
     "output_type": "stream",
     "text": [
      "T:\\apps\\T_anaconda\\Lib\\site-packages\\sklearn\\cluster\\_kmeans.py:1411: UserWarning: KMeans is known to have a memory leak on Windows with MKL, when there are less chunks than available threads. You can avoid it by setting the environment variable OMP_NUM_THREADS=1.\n",
      "  warnings.warn(\n"
     ]
    }
   ],
   "source": [
    "y_predicted = km.fit_predict(df[['Age','Income($)']])\n",
    "print(y_predicted)"
   ]
  },
  {
   "cell_type": "code",
   "execution_count": 6,
   "id": "672bda5b-f094-49bc-b889-91198ec60f70",
   "metadata": {},
   "outputs": [
    {
     "data": {
      "text/html": [
       "<div>\n",
       "<style scoped>\n",
       "    .dataframe tbody tr th:only-of-type {\n",
       "        vertical-align: middle;\n",
       "    }\n",
       "\n",
       "    .dataframe tbody tr th {\n",
       "        vertical-align: top;\n",
       "    }\n",
       "\n",
       "    .dataframe thead th {\n",
       "        text-align: right;\n",
       "    }\n",
       "</style>\n",
       "<table border=\"1\" class=\"dataframe\">\n",
       "  <thead>\n",
       "    <tr style=\"text-align: right;\">\n",
       "      <th></th>\n",
       "      <th>Name</th>\n",
       "      <th>Age</th>\n",
       "      <th>Income($)</th>\n",
       "      <th>cluster</th>\n",
       "    </tr>\n",
       "  </thead>\n",
       "  <tbody>\n",
       "    <tr>\n",
       "      <th>0</th>\n",
       "      <td>Rob</td>\n",
       "      <td>27</td>\n",
       "      <td>70000</td>\n",
       "      <td>0</td>\n",
       "    </tr>\n",
       "    <tr>\n",
       "      <th>1</th>\n",
       "      <td>Michael</td>\n",
       "      <td>29</td>\n",
       "      <td>90000</td>\n",
       "      <td>0</td>\n",
       "    </tr>\n",
       "    <tr>\n",
       "      <th>2</th>\n",
       "      <td>Mohan</td>\n",
       "      <td>29</td>\n",
       "      <td>61000</td>\n",
       "      <td>2</td>\n",
       "    </tr>\n",
       "    <tr>\n",
       "      <th>3</th>\n",
       "      <td>Ismail</td>\n",
       "      <td>28</td>\n",
       "      <td>60000</td>\n",
       "      <td>2</td>\n",
       "    </tr>\n",
       "    <tr>\n",
       "      <th>4</th>\n",
       "      <td>Kory</td>\n",
       "      <td>42</td>\n",
       "      <td>150000</td>\n",
       "      <td>1</td>\n",
       "    </tr>\n",
       "  </tbody>\n",
       "</table>\n",
       "</div>"
      ],
      "text/plain": [
       "      Name  Age  Income($)  cluster\n",
       "0      Rob   27      70000        0\n",
       "1  Michael   29      90000        0\n",
       "2    Mohan   29      61000        2\n",
       "3   Ismail   28      60000        2\n",
       "4     Kory   42     150000        1"
      ]
     },
     "execution_count": 6,
     "metadata": {},
     "output_type": "execute_result"
    }
   ],
   "source": [
    "df['cluster'] = y_predicted\n",
    "df.head()"
   ]
  },
  {
   "cell_type": "code",
   "execution_count": 7,
   "id": "a7563ff7-0165-4326-acbd-3931a692b54a",
   "metadata": {},
   "outputs": [
    {
     "data": {
      "text/plain": [
       "<matplotlib.legend.Legend at 0x17e2232c9e0>"
      ]
     },
     "execution_count": 7,
     "metadata": {},
     "output_type": "execute_result"
    },
    {
     "data": {
      "image/png": "[encoded data removed]",
      "text/plain": [
       "<Figure size 640x480 with 1 Axes>"
      ]
     },
     "metadata": {},
     "output_type": "display_data"
    }
   ],
   "source": [
    "df1 = df[df.cluster == 0]\n",
    "df2 = df[df.cluster == 1]\n",
    "df3 = df[df.cluster == 2]\n",
    "\n",
    "plt.scatter(df1.Age, df1['Income($)'], color = 'green')\n",
    "plt.scatter(df2.Age, df2['Income($)'], color = 'red')\n",
    "plt.scatter(df3.Age, df3['Income($)'], color = 'black')\n",
    "\n",
    "plt.scatter(km.cluster_centers_[:,0], km.cluster_centers_[:, 1], color = 'purple', marker = '*', label = 'centroid')\n",
    "plt.xlabel('Age')\n",
    "plt.ylabel('Income($)')\n",
    "plt.legend()\n"
   ]
  },
  {
   "cell_type": "markdown",
   "id": "4c4daf3c-3e0d-4d4e-ba5e-447292b250e1",
   "metadata": {},
   "source": [
    "# PROBLEM: X_AXIS IS NARROW\r",
    "# Fix: preprocessing dataset with MinMaxScaler() func\n"
   ]
  },
  {
   "cell_type": "code",
   "execution_count": 8,
   "id": "1199e34b-6404-46f9-89f5-b8e71f30c195",
   "metadata": {},
   "outputs": [
    {
     "name": "stdout",
     "output_type": "stream",
     "text": [
      "[[27, 70000], [29, 90000], [29, 61000], [28, 60000], [42, 150000], [39, 155000], [41, 160000], [38, 162000], [36, 156000], [35, 130000], [37, 137000], [26, 45000], [27, 48000], [28, 51000], [29, 49500], [32, 53000], [40, 65000], [41, 63000], [43, 64000], [39, 80000], [41, 82000], [39, 58000]]\n"
     ]
    }
   ],
   "source": [
    "scaler = MinMaxScaler()\n",
    "\n",
    "# scaler.fit(2_dimensional_container) Expected a 2-dimensional container \n",
    "# but got <class 'pandas.core.series.Series'> instead. \n",
    "# Pass a DataFrame containing a single row\n",
    "arr2d = []\n",
    "Age = df['Age']\n",
    "Income = df['Income($)']\n",
    "\n",
    "for i in range(len(df)):\n",
    "    temp = []\n",
    "    temp = [Age[i], Income[i]]\n",
    "    arr2d.append(temp)\n",
    "\n",
    "print(arr2d)\n",
    "\n"
   ]
  },
  {
   "cell_type": "code",
   "execution_count": 9,
   "id": "4d15f4e3-03eb-4d4e-b7b5-30491131cf4c",
   "metadata": {},
   "outputs": [
    {
     "name": "stdout",
     "output_type": "stream",
     "text": [
      "[[0.05882353 0.21367521]\n",
      " [0.17647059 0.38461538]\n",
      " [0.17647059 0.13675214]\n",
      " [0.11764706 0.12820513]\n",
      " [0.94117647 0.8974359 ]\n",
      " [0.76470588 0.94017094]\n",
      " [0.88235294 0.98290598]\n",
      " [0.70588235 1.        ]\n",
      " [0.58823529 0.94871795]\n",
      " [0.52941176 0.72649573]\n",
      " [0.64705882 0.78632479]\n",
      " [0.         0.        ]\n",
      " [0.05882353 0.02564103]\n",
      " [0.11764706 0.05128205]\n",
      " [0.17647059 0.03846154]\n",
      " [0.35294118 0.06837607]\n",
      " [0.82352941 0.17094017]\n",
      " [0.88235294 0.15384615]\n",
      " [1.         0.16239316]\n",
      " [0.76470588 0.2991453 ]\n",
      " [0.88235294 0.31623932]\n",
      " [0.76470588 0.11111111]]\n"
     ]
    }
   ],
   "source": [
    "scaler.fit(arr2d)\n",
    "arr2d = scaler.transform(arr2d)\n",
    "print(arr2d)"
   ]
  },
  {
   "cell_type": "code",
   "execution_count": 10,
   "id": "8cdd05eb-316c-47ec-942a-11d0f8534e36",
   "metadata": {},
   "outputs": [
    {
     "name": "stderr",
     "output_type": "stream",
     "text": [
      "C:\\Users\\Lenovo\\AppData\\Local\\Temp\\ipykernel_8096\\176067588.py:2: SettingWithCopyWarning: \n",
      "A value is trying to be set on a copy of a slice from a DataFrame\n",
      "\n",
      "See the caveats in the documentation: https://pandas.pydata.org/pandas-docs/stable/user_guide/indexing.html#returning-a-view-versus-a-copy\n",
      "  Age[i] = arr2d[i,0]\n",
      "C:\\Users\\Lenovo\\AppData\\Local\\Temp\\ipykernel_8096\\176067588.py:2: FutureWarning: Setting an item of incompatible dtype is deprecated and will raise an error in a future version of pandas. Value '0.05882352941176472' has dtype incompatible with int64, please explicitly cast to a compatible dtype first.\n",
      "  Age[i] = arr2d[i,0]\n",
      "C:\\Users\\Lenovo\\AppData\\Local\\Temp\\ipykernel_8096\\176067588.py:3: SettingWithCopyWarning: \n",
      "A value is trying to be set on a copy of a slice from a DataFrame\n",
      "\n",
      "See the caveats in the documentation: https://pandas.pydata.org/pandas-docs/stable/user_guide/indexing.html#returning-a-view-versus-a-copy\n",
      "  Income[i] = arr2d[i,1]\n",
      "C:\\Users\\Lenovo\\AppData\\Local\\Temp\\ipykernel_8096\\176067588.py:3: FutureWarning: Setting an item of incompatible dtype is deprecated and will raise an error in a future version of pandas. Value '0.21367521367521375' has dtype incompatible with int64, please explicitly cast to a compatible dtype first.\n",
      "  Income[i] = arr2d[i,1]\n",
      "T:\\apps\\T_anaconda\\Lib\\site-packages\\sklearn\\cluster\\_kmeans.py:1411: UserWarning: KMeans is known to have a memory leak on Windows with MKL, when there are less chunks than available threads. You can avoid it by setting the environment variable OMP_NUM_THREADS=1.\n",
      "  warnings.warn(\n"
     ]
    }
   ],
   "source": [
    "for i in range(len(arr2d)):\n",
    "    Age[i] = arr2d[i,0]\n",
    "    Income[i] = arr2d[i,1]\n",
    "\n",
    "df['Age'] = Age\n",
    "df['Income($)'] = Income\n",
    "\n",
    "y_predicted = km.fit_predict(df[['Age','Income($)']])"
   ]
  },
  {
   "cell_type": "code",
   "execution_count": 11,
   "id": "f779e172-13eb-4bfd-9af2-5e99dff65385",
   "metadata": {},
   "outputs": [
    {
     "name": "stdout",
     "output_type": "stream",
     "text": [
      "        Name       Age  Income($)  cluster\n",
      "0        Rob  0.058824   0.213675        0\n",
      "1    Michael  0.176471   0.384615        0\n",
      "2      Mohan  0.176471   0.136752        0\n",
      "3     Ismail  0.117647   0.128205        0\n",
      "4       Kory  0.941176   0.897436        1\n",
      "5     Gautam  0.764706   0.940171        1\n",
      "6      David  0.882353   0.982906        1\n",
      "7     Andrea  0.705882   1.000000        1\n",
      "8       Brad  0.588235   0.948718        1\n",
      "9   Angelina  0.529412   0.726496        1\n",
      "10    Donald  0.647059   0.786325        1\n",
      "11       Tom  0.000000   0.000000        0\n",
      "12    Arnold  0.058824   0.025641        0\n",
      "13     Jared  0.117647   0.051282        0\n",
      "14     Stark  0.176471   0.038462        0\n",
      "15    Ranbir  0.352941   0.068376        0\n",
      "16    Dipika  0.823529   0.170940        2\n",
      "17  Priyanka  0.882353   0.153846        2\n",
      "18      Nick  1.000000   0.162393        2\n",
      "19      Alia  0.764706   0.299145        2\n",
      "20       Sid  0.882353   0.316239        2\n",
      "21     Abdul  0.764706   0.111111        2\n"
     ]
    }
   ],
   "source": [
    "df['cluster'] = y_predicted\n",
    "print(df)"
   ]
  },
  {
   "cell_type": "markdown",
   "id": "d1d3c7e0-f6df-4d40-984e-2c34aaa1d195",
   "metadata": {},
   "source": [
    "# After KM clustering"
   ]
  },
  {
   "cell_type": "code",
   "execution_count": 12,
   "id": "a7af4894-054c-47a2-ac08-286f909fcd12",
   "metadata": {},
   "outputs": [
    {
     "data": {
      "text/plain": [
       "<matplotlib.legend.Legend at 0x17e2232cf20>"
      ]
     },
     "execution_count": 12,
     "metadata": {},
     "output_type": "execute_result"
    },
    {
     "data": {
      "image/png": "[encoded data removed]",
      "text/plain": [
       "<Figure size 640x480 with 1 Axes>"
      ]
     },
     "metadata": {},
     "output_type": "display_data"
    }
   ],
   "source": [
    "df1 = df[df.cluster == 0]\n",
    "df2 = df[df.cluster == 1]\n",
    "df3 = df[df.cluster == 2]\n",
    "\n",
    "plt.scatter(df1.Age, df1['Income($)'], color = 'green')\n",
    "plt.scatter(df2.Age, df2['Income($)'], color = 'red')\n",
    "plt.scatter(df3.Age, df3['Income($)'], color = 'black')\n",
    "\n",
    "plt.scatter(km.cluster_centers_[:,0], km.cluster_centers_[:, 1], color = 'purple', marker = '*', label = 'centroid')\n",
    "plt.xlabel('Age')\n",
    "plt.ylabel('Income($)')\n",
    "plt.legend()"
   ]
  },
  {
   "cell_type": "markdown",
   "id": "81e6684f-e3b6-4a1b-94d0-2fdf505b0327",
   "metadata": {},
   "source": [
    "# How to determine correct  number of clusters (K) ?\n",
    "# => Elbow Technique (đồ thị khuỷa tay)\n",
    "explain: repeat KM in many variety K and watching the changing in Sum of Squared Error(SSE) graph and choose the \"elbow\" of the graph which will be the best K cluster"
   ]
  },
  {
   "cell_type": "code",
   "execution_count": 13,
   "id": "c7245103-aebf-4e60-a59b-f043715d7e39",
   "metadata": {},
   "outputs": [
    {
     "name": "stderr",
     "output_type": "stream",
     "text": [
      "T:\\apps\\T_anaconda\\Lib\\site-packages\\sklearn\\cluster\\_kmeans.py:1411: UserWarning: KMeans is known to have a memory leak on Windows with MKL, when there are less chunks than available threads. You can avoid it by setting the environment variable OMP_NUM_THREADS=1.\n",
      "  warnings.warn(\n",
      "T:\\apps\\T_anaconda\\Lib\\site-packages\\sklearn\\cluster\\_kmeans.py:1411: UserWarning: KMeans is known to have a memory leak on Windows with MKL, when there are less chunks than available threads. You can avoid it by setting the environment variable OMP_NUM_THREADS=1.\n",
      "  warnings.warn(\n",
      "T:\\apps\\T_anaconda\\Lib\\site-packages\\sklearn\\cluster\\_kmeans.py:1411: UserWarning: KMeans is known to have a memory leak on Windows with MKL, when there are less chunks than available threads. You can avoid it by setting the environment variable OMP_NUM_THREADS=1.\n",
      "  warnings.warn(\n",
      "T:\\apps\\T_anaconda\\Lib\\site-packages\\sklearn\\cluster\\_kmeans.py:1411: UserWarning: KMeans is known to have a memory leak on Windows with MKL, when there are less chunks than available threads. You can avoid it by setting the environment variable OMP_NUM_THREADS=1.\n",
      "  warnings.warn(\n"
     ]
    },
    {
     "name": "stdout",
     "output_type": "stream",
     "text": [
      "[5.434011511988178, 2.091136388699078, 0.4750783498553096, 0.42015522057314425, 0.30713504184752916, 0.23022348815682742, 0.19402863836402717, 0.1680621918962203, 0.12861136577976257]\n"
     ]
    },
    {
     "name": "stderr",
     "output_type": "stream",
     "text": [
      "T:\\apps\\T_anaconda\\Lib\\site-packages\\sklearn\\cluster\\_kmeans.py:1411: UserWarning: KMeans is known to have a memory leak on Windows with MKL, when there are less chunks than available threads. You can avoid it by setting the environment variable OMP_NUM_THREADS=1.\n",
      "  warnings.warn(\n",
      "T:\\apps\\T_anaconda\\Lib\\site-packages\\sklearn\\cluster\\_kmeans.py:1411: UserWarning: KMeans is known to have a memory leak on Windows with MKL, when there are less chunks than available threads. You can avoid it by setting the environment variable OMP_NUM_THREADS=1.\n",
      "  warnings.warn(\n",
      "T:\\apps\\T_anaconda\\Lib\\site-packages\\sklearn\\cluster\\_kmeans.py:1411: UserWarning: KMeans is known to have a memory leak on Windows with MKL, when there are less chunks than available threads. You can avoid it by setting the environment variable OMP_NUM_THREADS=1.\n",
      "  warnings.warn(\n",
      "T:\\apps\\T_anaconda\\Lib\\site-packages\\sklearn\\cluster\\_kmeans.py:1411: UserWarning: KMeans is known to have a memory leak on Windows with MKL, when there are less chunks than available threads. You can avoid it by setting the environment variable OMP_NUM_THREADS=1.\n",
      "  warnings.warn(\n",
      "T:\\apps\\T_anaconda\\Lib\\site-packages\\sklearn\\cluster\\_kmeans.py:1411: UserWarning: KMeans is known to have a memory leak on Windows with MKL, when there are less chunks than available threads. You can avoid it by setting the environment variable OMP_NUM_THREADS=1.\n",
      "  warnings.warn(\n"
     ]
    }
   ],
   "source": [
    "k_rng = range(1,10)\n",
    "sse = []\n",
    "for k in k_rng:\n",
    "    km = KMeans (n_clusters = k)\n",
    "    km.fit(df[['Age', 'Income($)']])\n",
    "    sse.append(km.inertia_)\n",
    "\n",
    "print(sse)"
   ]
  },
  {
   "cell_type": "markdown",
   "id": "69d91bd4-b01b-4d86-a2a3-f1e0cfff9be7",
   "metadata": {},
   "source": [
    "# Elbow Graph"
   ]
  },
  {
   "cell_type": "code",
   "execution_count": 14,
   "id": "db3e7e1a-9270-4b7a-9200-ca0fd953e797",
   "metadata": {},
   "outputs": [
    {
     "data": {
      "text/plain": [
       "[<matplotlib.lines.Line2D at 0x17e222c9f40>]"
      ]
     },
     "execution_count": 14,
     "metadata": {},
     "output_type": "execute_result"
    },
    {
     "data": {
      "image/png": "[encoded data removed]",
      "text/plain": [
       "<Figure size 640x480 with 1 Axes>"
      ]
     },
     "metadata": {},
     "output_type": "display_data"
    }
   ],
   "source": [
    "plt.xlabel('K')\n",
    "plt.ylabel('Sum of Squared Error')\n",
    "plt.plot(k_rng, sse)"
   ]
  },
  {
   "cell_type": "markdown",
   "id": "99c07d71-e7de-4120-9131-e0d1b55e00c3",
   "metadata": {},
   "source": [
    "=>> As you at K = 3 is the Elbow of the graph so we choose K = 3 to clustering"
   ]
  },
  {
   "cell_type": "markdown",
   "id": "85dbb8c4-3aff-4deb-9358-652136bf0c44",
   "metadata": {},
   "source": [
    "# CONCLUSION: to determind which K is the best for KM clustering in the big dataset will waste of resources"
   ]
  }
 ],
 "metadata": {
  "kernelspec": {
   "display_name": "Python 3 (ipykernel)",
   "language": "python",
   "name": "python3"
  },
  "language_info": {
   "codemirror_mode": {
    "name": "ipython",
    "version": 3
   },
   "file_extension": ".py",
   "mimetype": "text/x-python",
   "name": "python",
   "nbconvert_exporter": "python",
   "pygments_lexer": "ipython3",
   "version": "3.12.3"
  }
 },
 "nbformat": 4,
 "nbformat_minor": 5
}
